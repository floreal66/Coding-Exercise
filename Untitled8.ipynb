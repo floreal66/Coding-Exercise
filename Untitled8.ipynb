{
 "cells": [
  {
   "cell_type": "code",
   "execution_count": 3,
   "metadata": {},
   "outputs": [
    {
     "name": "stdout",
     "output_type": "stream",
     "text": [
      "        Country Client Name   Product Type  Notional Traded (M eur)\n",
      "0   Netherlands    Client C       Straddle                      100\n",
      "1         Italy    Client A       Autocall                      250\n",
      "2        France    Client C  Asian Options                      550\n",
      "3   Netherlands    Client B       Autocall                      350\n",
      "4       Germany    Client B  Asian Options                      600\n",
      "5   Netherlands    Client A       Straddle                      450\n",
      "6       Germany    Client B  Asian Options                      500\n",
      "7         Italy    Client A       Autocall                      550\n",
      "8   Netherlands    Client B       Autocall                      600\n",
      "9            UK    Client C       Straddle                      400\n",
      "10       France    Client C  Asian Options                      550\n",
      "11           UK    Client A       Straddle                      100\n",
      "12           UK    Client C            BRC                       50\n",
      "13        Italy    Client B       Autocall                      250\n",
      "14  Netherlands    Client A            BRC                      350\n",
      "15           UK    Client B    Call Spread                      350\n",
      "16           UK    Client B       Autocall                      600\n",
      "17       France    Client C       Autocall                      200\n",
      "18       France    Client B  Asian Options                      400\n",
      "19      Germany    Client B       Autocall                      200\n"
     ]
    }
   ],
   "source": [
    "import pandas as pd\n",
    "\n",
    "data = {\n",
    "    'Country': ['Netherlands', 'Italy', 'France', 'Netherlands', 'Germany', 'Netherlands', 'Germany', 'Italy', 'Netherlands', 'UK', 'France', 'UK', 'UK', 'Italy', 'Netherlands', 'UK', 'UK', 'France', 'France', 'Germany'],\n",
    "    'Client Name': ['Client C', 'Client A', 'Client C', 'Client B', 'Client B', 'Client A', 'Client B', 'Client A', 'Client B', 'Client C', 'Client C', 'Client A', 'Client C', 'Client B', 'Client A', 'Client B', 'Client B', 'Client C', 'Client B', 'Client B'],\n",
    "    'Product Type': ['Straddle', 'Autocall', 'Asian Options', 'Autocall', 'Asian Options', 'Straddle', 'Asian Options', 'Autocall', 'Autocall', 'Straddle', 'Asian Options', 'Straddle', 'BRC', 'Autocall', 'BRC', 'Call Spread', 'Autocall', 'Autocall', 'Asian Options', 'Autocall'],\n",
    "    'Notional Traded (M eur)': [100, 250, 550, 350, 600, 450, 500, 550, 600, 400, 550, 100, 50, 250, 350, 350, 600, 200, 400, 200]\n",
    "}\n",
    "\n",
    "df = pd.DataFrame(data)\n",
    "\n",
    "print(df)"
   ]
  },
  {
   "cell_type": "code",
   "execution_count": 11,
   "metadata": {},
   "outputs": [
    {
     "name": "stdout",
     "output_type": "stream",
     "text": [
      "Client Name  Client A  Client B  Client C\n",
      "Country                                  \n",
      "France            0.0     400.0    1300.0\n",
      "Germany           0.0    1300.0       0.0\n",
      "Italy           800.0     250.0       0.0\n",
      "Netherlands     800.0     950.0     100.0\n",
      "UK              100.0     950.0     450.0\n"
     ]
    }
   ],
   "source": [
    "# Group by 'Country' and 'Client Name', then sum the 'Notional Traded' for each group\n",
    "grouped_df = df.groupby(['Country', 'Client Name'])['Notional Traded (M eur)'].sum().reset_index()\n",
    "\n",
    "# Pivot the grouped DataFrame to create the desired matrix\n",
    "matrix = grouped_df.pivot(index='Country', columns='Client Name', values='Notional Traded (M eur)').fillna(0)\n",
    "\n",
    "print(matrix)"
   ]
  },
  {
   "cell_type": "code",
   "execution_count": 12,
   "metadata": {},
   "outputs": [
    {
     "name": "stdout",
     "output_type": "stream",
     "text": [
      "Client Name    Client A  Client B  Client C\n",
      "Product Type                               \n",
      "Asian Options       0.0    1500.0    1100.0\n",
      "Autocall          800.0    2000.0     200.0\n",
      "BRC               350.0       0.0      50.0\n",
      "Call Spread         0.0     350.0       0.0\n",
      "Straddle          550.0       0.0     500.0\n"
     ]
    }
   ],
   "source": [
    "# Group by 'Product' and 'Client Name', then sum the 'Notional Traded' for each group\n",
    "grouped_df = df.groupby(['Product Type', 'Client Name'])['Notional Traded (M eur)'].sum().reset_index()\n",
    "\n",
    "# Pivot the grouped DataFrame to create the desired matrix\n",
    "matrix = grouped_df.pivot(index='Product Type', columns='Client Name', values='Notional Traded (M eur)').fillna(0)\n",
    "\n",
    "print(matrix)"
   ]
  },
  {
   "cell_type": "code",
   "execution_count": null,
   "metadata": {},
   "outputs": [],
   "source": []
  }
 ],
 "metadata": {
  "kernelspec": {
   "display_name": "Python 3",
   "language": "python",
   "name": "python3"
  },
  "language_info": {
   "codemirror_mode": {
    "name": "ipython",
    "version": 3
   },
   "file_extension": ".py",
   "mimetype": "text/x-python",
   "name": "python",
   "nbconvert_exporter": "python",
   "pygments_lexer": "ipython3",
   "version": "3.8.5"
  }
 },
 "nbformat": 4,
 "nbformat_minor": 4
}
